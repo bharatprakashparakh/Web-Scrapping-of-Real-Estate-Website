{
 "cells": [
  {
   "cell_type": "code",
   "execution_count": 10,
   "metadata": {},
   "outputs": [
    {
     "data": {
      "text/plain": [
       "'3'"
      ]
     },
     "execution_count": 10,
     "metadata": {},
     "output_type": "execute_result"
    }
   ],
   "source": [
    "#import the required modules\n",
    "from bs4 import BeautifulSoup \n",
    "import requests,re\n",
    "\n",
    "#create the request object referring to the url\n",
    "r = requests.get(\"http://www.pyclass.com/real-estate/rock-springs-wy/LCWYROCKSPRINGS/\", headers={'User-agent': 'Mozilla/5.0 (X11; Ubuntu; Linux x86_64; rv:61.0) Gecko/20100101 Firefox/61.0'})\n",
    "\n",
    "#Fetch the content of the request object\n",
    "c=r.content \n",
    "type(c)\n",
    "\n",
    "#pass content to beautiful soup and parse it using html parser\n",
    "soup=BeautifulSoup(c,\"html.parser\")\n",
    "\n",
    "#Find total number of web pages on the web url.\n",
    "\n",
    "page_nr=soup.find_all(\"a\",{\"class\":\"Page\"})[-1].text\n",
    "\n",
    "page_nr\n",
    "\n",
    "l=[]\n",
    "base_url=\"http://www.pyclass.com/real-estate/rock-springs-wy/LCWYROCKSPRINGS/t=0&s=\"\n",
    "# Iterate over all the pages\n",
    "for page in range(0,int(page_nr)*10,10):\n",
    "    print( )\n",
    "    r=requests.get(base_url+str(page)+\".html\", headers={'User-agent': 'Mozilla/5.0 (X11; Ubuntu; Linux x86_64; rv:61.0) Gecko/20100101 Firefox/61.0'})\n",
    "    c=r.content\n",
    "    soup=BeautifulSoup(c,\"html.parser\")\n",
    "    all=soup.find_all(\"div\",{\"class\":\"propertyRow\"})\n",
    "    for item in all:\n",
    "        d={}  #creating dictionary\n",
    "        d[\"Address\"]=item.find_all(\"span\",{\"class\",\"propAddressCollapse\"})[0].text\n",
    "        try:\n",
    "            d[\"Locality\"]=item.find_all(\"span\",{\"class\",\"propAddressCollapse\"})[1].text\n",
    "        except:\n",
    "            d[\"Locality\"]=None\n",
    "        d[\"Price\"]=item.find(\"h4\",{\"class\",\"propPrice\"}).text.replace(\"$\",\"\").replace(\"\\n\",\"\").replace(\" \",\"\")\n",
    "       \n",
    "       \n",
    "        try:\n",
    "            d[\"Beds\"]=item.find(\"span\",{\"class\",\"infoBed\"}).find(\"b\").text\n",
    "        except:\n",
    "            d[\"Beds\"]=None\n",
    "    \n",
    "        try:\n",
    "            d[\"Area\"]=item.find(\"span\",{\"class\",\"infoSqFt\"}).find(\"b\").text\n",
    "        except:\n",
    "            d[\"Area\"]=None\n",
    "    \n",
    "        try:\n",
    "            d[\"Full Baths\"]=item.find(\"span\",{\"class\",\"infoValueFullBath\"}).find(\"b\").text\n",
    "        except:\n",
    "            d[\"Full Baths\"]=None\n",
    "\n",
    "        try:\n",
    "            d[\"Half Baths\"]=item.find(\"span\",{\"class\",\"infoValueHalfBath\"}).find(\"b\").text\n",
    "        except:\n",
    "            d[\"Half Baths\"]=None\n",
    "        #traversing two lists at same time using zip\n",
    "        for column_group in item.find_all(\"div\",{\"class\":\"columnGroup\"}):\n",
    "            for feature_group, feature_name in zip(column_group.find_all(\"span\",{\"class\":\"featureGroup\"}),column_group.find_all(\"span\",{\"class\":\"featureName\"})):\n",
    "                if \"Lot Size\" in feature_group.text:\n",
    "                    d[\"Lot Size\"]=feature_name.text\n",
    "        l.append(d)\n",
    "\n",
    "l\n",
    "\n",
    "#Create dataframe using pandas for the list 'l' containing key-value pairs.\n",
    "import pandas\n",
    "df=pandas.DataFrame(l)\n",
    "\n",
    "df\n",
    "\n",
    "#dataframe is saved to csv file.\n",
    "df.to_csv(\"Output.csv\")\n",
    "\n",
    "\n",
    "\n"
   ]
  }
 ],
 "metadata": {
  "kernelspec": {
   "display_name": "Python 3",
   "language": "python",
   "name": "python3"
  },
  "language_info": {
   "codemirror_mode": {
    "name": "ipython",
    "version": 3
   },
   "file_extension": ".py",
   "mimetype": "text/x-python",
   "name": "python",
   "nbconvert_exporter": "python",
   "pygments_lexer": "ipython3",
   "version": "3.6.4"
  }
 },
 "nbformat": 4,
 "nbformat_minor": 2
}
