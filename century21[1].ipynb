{
 "cells": [
  {
   "cell_type": "code",
   "execution_count": 1,
   "metadata": {},
   "outputs": [],
   "source": [
    "import requests\n",
    "from bs4 import BeautifulSoup\n",
    "import ssl\n",
    "import pandas as pd"
   ]
  },
  {
   "cell_type": "code",
   "execution_count": 2,
   "metadata": {},
   "outputs": [
    {
     "name": "stdout",
     "output_type": "stream",
     "text": [
      "<class 'requests.models.Response'>\n"
     ]
    }
   ],
   "source": [
    "r = requests.get(\"https://www.makaan.com/chennai-residential-property/buy-property-in-chennai-city?budget=,\")\n",
    "print(type(r))\n",
    "code = r.content\n",
    "#print(code)"
   ]
  },
  {
   "cell_type": "code",
   "execution_count": 14,
   "metadata": {},
   "outputs": [],
   "source": [
    "soup = BeautifulSoup(code,\"html.parser\")\n",
    "#print(soup.prettify())"
   ]
  },
  {
   "cell_type": "code",
   "execution_count": 15,
   "metadata": {},
   "outputs": [
    {
     "name": "stdout",
     "output_type": "stream",
     "text": [
      "20\n"
     ]
    }
   ],
   "source": [
    "all = soup.find_all(\"div\",{\"class\":\"title-line\"})\n",
    "print(len(all))"
   ]
  },
  {
   "cell_type": "code",
   "execution_count": 16,
   "metadata": {},
   "outputs": [
    {
     "name": "stdout",
     "output_type": "stream",
     "text": [
      "<div class=\"title-line\"><a class=\"typelink\" data-type=\"listing-link\" href=\"https://www.makaan.com/chennai/builder-alliance-business-parks-galleria-residences-in-zamin-pallavaram-chennai-8117841/3bhk-3t-1618-sqft-apartment\" itemprop=\"url\" target=\"_blank\"><meta content=\"3 BHK Apartment for sale\" id=\"itemNameFor-8117841\" itemprop=\"name\"/><strong><span class=\"val\">3 </span><span>BHK </span><span>Apartment</span></strong></a><span class=\"project-wrap\"> in <strong><span class=\"projName\">Alliance Business Parks Galleria Residences</span></strong></span></div>\n",
      "\n",
      "<div class=\"title-line\"><a class=\"typelink\" data-type=\"listing-link\" href=\"https://www.makaan.com/chennai/builder-project-in-urapakkam-8123496/4bhk-4t-1283-sqft-villa\" itemprop=\"url\" target=\"_blank\"><meta content=\"4 BHK Villa for sale\" id=\"itemNameFor-8123496\" itemprop=\"name\"/><strong><span class=\"val\">4 </span><span>BHK </span><span>Villa</span></strong></a></div>\n",
      "\n",
      "<div class=\"title-line\"><a class=\"typelink\" data-type=\"listing-link\" href=\"https://www.makaan.com/chennai/godrej-properties-azure-in-padur-4640777/2bhk-2t-1029-sqft-apartment\" itemprop=\"url\" target=\"_blank\"><meta content=\"2 BHK Apartment for sale\" id=\"itemNameFor-4640777\" itemprop=\"name\"/><strong><span class=\"val\">2 </span><span>BHK </span><span>Apartment</span></strong></a><span class=\"project-wrap\"> in <strong><a class=\"projName\" data-link-name=\"Godrej Azure\" data-link-type=\"project overview\" data-track-label=\"4640777_3_668509_select\" data-type=\"projName\" href=\"https://www.makaan.com/chennai/godrej-properties-azure-in-padur-668509\" target=\"_blank\" title=\"Go to Godrej Azure\"><span>Godrej Azure</span></a></strong></span></div>\n",
      "\n",
      "<div class=\"title-line\"><a class=\"typelink\" data-type=\"listing-link\" href=\"https://www.makaan.com/chennai/builder-aradhya-villa-in-east-tambaram-7004940/3bhk-3t-1591-sqft-villa\" itemprop=\"url\" target=\"_blank\"><meta content=\"3 BHK Villa for sale\" id=\"itemNameFor-7004940\" itemprop=\"name\"/><strong><span class=\"val\">3 </span><span>BHK </span><span>Villa</span></strong></a><span class=\"project-wrap\"> in <strong><span class=\"projName\">Aradhya Villa</span></strong></span></div>\n",
      "\n",
      "<div class=\"title-line\"><a class=\"typelink\" data-type=\"listing-link\" href=\"https://www.makaan.com/chennai/builder-mr-p-ravichandran-in-residential-flat-rajaji-nagar-8067854/2bhk-2t-1100-sqft-apartment\" itemprop=\"url\" target=\"_blank\"><meta content=\"2 BHK Apartment for sale\" id=\"itemNameFor-8067854\" itemprop=\"name\"/><strong><span class=\"val\">2 </span><span>BHK </span><span>Apartment</span></strong></a><span class=\"project-wrap\"> in <strong><span class=\"projName\">Mr P Ravichandran</span></strong></span></div>\n",
      "\n",
      "<div class=\"title-line\"><a class=\"typelink\" data-type=\"listing-link\" href=\"https://www.makaan.com/chennai/vs-builder-madipakkam-in-madipakkam-6929809/2bhk-2t-835-sqft-apartment\" itemprop=\"url\" target=\"_blank\"><meta content=\"2 BHK Apartment for sale\" id=\"itemNameFor-6929809\" itemprop=\"name\"/><strong><span class=\"val\">2 </span><span>BHK </span><span>Apartment</span></strong></a><span class=\"project-wrap\"> in <strong><a class=\"projName\" data-link-name=\"VS Madipakkam\" data-link-type=\"project overview\" data-track-label=\"6929809_6_1722327_select\" data-type=\"projName\" href=\"https://www.makaan.com/chennai/vs-builder-madipakkam-in-madipakkam-1722327\" target=\"_blank\" title=\"Go to VS Madipakkam\"><span>VS Madipakkam</span></a></strong></span></div>\n",
      "\n",
      "<div class=\"title-line\"><a class=\"typelink\" data-type=\"listing-link\" href=\"https://www.makaan.com/chennai/golden-homes-opulence-in-poonamallee-7418020/2bhk-2t-696-sqft-apartment\" itemprop=\"url\" target=\"_blank\"><meta content=\"2 BHK Apartment for sale\" id=\"itemNameFor-7418020\" itemprop=\"name\"/><strong><span class=\"val\">2 </span><span>BHK </span><span>Apartment</span></strong></a><span class=\"project-wrap\"> in <strong><a class=\"projName\" data-link-name=\"Golden Opulence\" data-link-type=\"project overview\" data-track-label=\"7418020_7_502600_select\" data-type=\"projName\" href=\"https://www.makaan.com/chennai/golden-homes-opulence-in-poonamallee-502600\" target=\"_blank\" title=\"Go to Golden Opulence\"><span>Golden Opulence</span></a></strong></span></div>\n",
      "\n",
      "<div class=\"title-line\"><a class=\"typelink\" data-type=\"listing-link\" href=\"https://www.makaan.com/chennai/builder-project-in-kovur-8130331/2bhk-2t-890-sqft-independenthouse\" itemprop=\"url\" target=\"_blank\"><meta content=\"2 BHK Independent House for sale\" id=\"itemNameFor-8130331\" itemprop=\"name\"/><strong><span class=\"val\">2 </span><span>BHK </span><span>Independent House</span></strong></a></div>\n",
      "\n",
      "<div class=\"title-line\"><a class=\"typelink\" data-type=\"listing-link\" href=\"https://www.makaan.com/chennai/builder-the-white-villas-phase-4-in-tambaram-mudichur-oragadam-road-8137897/3bhk-3t-1237-sqft-villa\" itemprop=\"url\" target=\"_blank\"><meta content=\"3 BHK Villa for sale\" id=\"itemNameFor-8137897\" itemprop=\"name\"/><strong><span class=\"val\">3 </span><span>BHK </span><span>Villa</span></strong></a><span class=\"project-wrap\"> in <strong><span class=\"projName\">The White Villas Phase 4</span></strong></span></div>\n",
      "\n",
      "<div class=\"title-line\"><a class=\"typelink\" data-type=\"listing-link\" href=\"https://www.makaan.com/chennai/reputed-builder-lnt-eden-park-in-siruseri-8131327/3bhk-3t-2050-sqft-apartment\" itemprop=\"url\" target=\"_blank\"><meta content=\"3 BHK Apartment for sale\" id=\"itemNameFor-8131327\" itemprop=\"name\"/><strong><span class=\"val\">3 </span><span>BHK </span><span>Apartment</span></strong></a><span class=\"project-wrap\"> in <strong><a class=\"projName\" data-link-name=\"Reputed LNT Eden Park\" data-link-type=\"project overview\" data-track-label=\"8131327_10_1439088_select\" data-type=\"projName\" href=\"https://www.makaan.com/chennai/reputed-builder-lnt-eden-park-in-siruseri-1439088\" target=\"_blank\" title=\"Go to Reputed LNT Eden Park\"><span>Reputed LNT Eden Park</span></a></strong></span></div>\n",
      "\n",
      "<div class=\"title-line\"><a class=\"typelink\" data-type=\"listing-link\" href=\"https://www.makaan.com/chennai/builder-project-in-new-avadi-road-8078350/2bhk-2t-960-sqft-independenthouse\" itemprop=\"url\" target=\"_blank\"><meta content=\"2 BHK Independent House for sale\" id=\"itemNameFor-8078350\" itemprop=\"name\"/><strong><span class=\"val\">2 </span><span>BHK </span><span>Independent House</span></strong></a></div>\n",
      "\n",
      "<div class=\"title-line\"><a class=\"typelink\" data-type=\"listing-link\" href=\"https://www.makaan.com/chennai/builder-fortune-residency-west-tambaram-in-west-tambaram-8143439/1296-sqft-plot\" itemprop=\"url\" target=\"_blank\"><meta content=\"Residential Plot for sale\" id=\"itemNameFor-8143439\" itemprop=\"name\"/><strong><span>Residential Plot</span></strong></a><span class=\"project-wrap\"> in <strong><span class=\"projName\">Fortune Residency west tambaram</span></strong></span></div>\n",
      "\n",
      "<div class=\"title-line\"><a class=\"typelink\" data-type=\"listing-link\" href=\"https://www.makaan.com/chennai/tata-value-homes-new-haven-ribbon-walk-in-moolacheri-7741891/1bhk-1t-603-sqft-apartment\" itemprop=\"url\" target=\"_blank\"><meta content=\"1 BHK Apartment for sale\" id=\"itemNameFor-7741891\" itemprop=\"name\"/><strong><span class=\"val\">1 </span><span>BHK </span><span>Apartment</span></strong></a><span class=\"project-wrap\"> in <strong><a class=\"projName\" data-link-name=\"TATA New Haven Ribbon Walk\" data-link-type=\"project overview\" data-track-label=\"7741891_13_656445_select\" data-type=\"projName\" href=\"https://www.makaan.com/chennai/tata-value-homes-new-haven-ribbon-walk-in-moolacheri-656445\" target=\"_blank\" title=\"Go to TATA New Haven Ribbon Walk\"><span>TATA New Haven Ribbon Walk</span></a></strong></span></div>\n",
      "\n",
      "<div class=\"title-line\"><a class=\"typelink\" data-type=\"listing-link\" href=\"https://www.makaan.com/chennai/vishwakarma-properties-sky-park-in-chromepet-7785767/5bhk-5t-3370-sqft-apartment\" itemprop=\"url\" target=\"_blank\"><meta content=\"5 BHK Apartment for sale\" id=\"itemNameFor-7785767\" itemprop=\"name\"/><strong><span class=\"val\">5 </span><span>BHK </span><span>Apartment</span></strong></a><span class=\"project-wrap\"> in <strong><a class=\"projName\" data-link-name=\"Vishwakarma Sky Park\" data-link-type=\"project overview\" data-track-label=\"7785767_14_502679_select\" data-type=\"projName\" href=\"https://www.makaan.com/chennai/vishwakarma-properties-sky-park-in-chromepet-502679\" target=\"_blank\" title=\"Go to Vishwakarma Sky Park\"><span>Vishwakarma Sky Park</span></a></strong></span></div>\n",
      "\n",
      "<div class=\"title-line\"><a class=\"typelink\" data-type=\"listing-link\" href=\"https://www.makaan.com/chennai/builder-cmda-colony-in-tambaram-west-in-tambaram-west-8142384/1200-sqft-plot\" itemprop=\"url\" target=\"_blank\"><meta content=\"Residential Plot for sale\" id=\"itemNameFor-8142384\" itemprop=\"name\"/><strong><span>Residential Plot</span></strong></a><span class=\"project-wrap\"> in <strong><span class=\"projName\">CMDA COLONY IN TAMBARAM WEST</span></strong></span></div>\n",
      "\n",
      "<div class=\"title-line\"><a class=\"typelink\" data-type=\"listing-link\" href=\"https://www.makaan.com/chennai/avittam-homes-sekkizhar-in-pammal-8088963/2bhk-2t-989-sqft-apartment\" itemprop=\"url\" target=\"_blank\"><meta content=\"2 BHK Apartment for sale\" id=\"itemNameFor-8088963\" itemprop=\"name\"/><strong><span class=\"val\">2 </span><span>BHK </span><span>Apartment</span></strong></a><span class=\"project-wrap\"> in <strong><a class=\"projName\" data-link-name=\"Avittam Sekkizhar\" data-link-type=\"project overview\" data-track-label=\"8088963_16_1904234_select\" data-type=\"projName\" href=\"https://www.makaan.com/chennai/avittam-homes-sekkizhar-in-pammal-1904234\" target=\"_blank\" title=\"Go to Avittam Sekkizhar\"><span>Avittam Sekkizhar</span></a></strong></span></div>\n",
      "\n",
      "<div class=\"title-line\"><a class=\"typelink\" data-type=\"listing-link\" href=\"https://www.makaan.com/chennai/builder-project-in-pallavaram-7952807/2bhk-1t-650-sqft-independenthouse\" itemprop=\"url\" target=\"_blank\"><meta content=\"2 BHK Independent House for sale\" id=\"itemNameFor-7952807\" itemprop=\"name\"/><strong><span class=\"val\">2 </span><span>BHK </span><span>Independent House</span></strong></a></div>\n",
      "\n",
      "<div class=\"title-line\"><a class=\"typelink\" data-type=\"listing-link\" href=\"https://www.makaan.com/chennai/builder-grand-magnum-in-perungalathur-7968428/1501-sqft-plot\" itemprop=\"url\" target=\"_blank\"><meta content=\"Residential Plot for sale\" id=\"itemNameFor-7968428\" itemprop=\"name\"/><strong><span>Residential Plot</span></strong></a><span class=\"project-wrap\"> in <strong><span class=\"projName\">GRAND MAGNUM</span></strong></span></div>\n",
      "\n",
      "<div class=\"title-line\"><a class=\"typelink\" data-type=\"listing-link\" href=\"https://www.makaan.com/chennai/bbcl-ashraya-in-thoraipakkam-omr-6357077/3bhk-3t-1489-sqft-apartment\" itemprop=\"url\" target=\"_blank\"><meta content=\"3 BHK Apartment for sale\" id=\"itemNameFor-6357077\" itemprop=\"name\"/><strong><span class=\"val\">3 </span><span>BHK </span><span>Apartment</span></strong></a><span class=\"project-wrap\"> in <strong><a class=\"projName\" data-link-name=\"BBCL Ashraya\" data-link-type=\"project overview\" data-track-label=\"6357077_19_650146_select\" data-type=\"projName\" href=\"https://www.makaan.com/chennai/bbcl-ashraya-in-thoraipakkam-omr-650146\" target=\"_blank\" title=\"Go to BBCL Ashraya\"><span>BBCL Ashraya</span></a></strong></span></div>\n",
      "\n",
      "<div class=\"title-line\"><a class=\"typelink\" data-type=\"listing-link\" href=\"https://www.makaan.com/chennai/ananda-green-mantra-developers-habitat-in-oragadam-7679466/1000-sqft-plot\" itemprop=\"url\" target=\"_blank\"><meta content=\"Residential Plot for sale\" id=\"itemNameFor-7679466\" itemprop=\"name\"/><strong><span>Residential Plot</span></strong></a><span class=\"project-wrap\"> in <strong><a class=\"projName\" data-link-name=\"Ananda Habitat\" data-link-type=\"project overview\" data-track-label=\"7679466_20_1448770_select\" data-type=\"projName\" href=\"https://www.makaan.com/chennai/ananda-green-mantra-developers-habitat-in-oragadam-1448770\" target=\"_blank\" title=\"Go to Ananda Habitat\"><span>Ananda Habitat</span></a></strong></span></div>\n",
      "\n"
     ]
    }
   ],
   "source": [
    "for item in all:\n",
    "    print(item)\n",
    "    print(\"\")"
   ]
  },
  {
   "cell_type": "code",
   "execution_count": 17,
   "metadata": {},
   "outputs": [],
   "source": [
    "l=all[0].find('a',{\"data-type\":\"listing-link\"})\n",
    "#print(l.get(\"href\"))"
   ]
  },
  {
   "cell_type": "code",
   "execution_count": 18,
   "metadata": {},
   "outputs": [],
   "source": [
    "links = []\n",
    "for item in all:\n",
    "    l=item.find('a',{\"class\":\"typelink\"})\n",
    "    links.append(l.get(\"href\"))\n",
    "    \n",
    "    #print(links)"
   ]
  },
  {
   "cell_type": "code",
   "execution_count": 19,
   "metadata": {},
   "outputs": [],
   "source": [
    "list2=[]\n",
    "name=[]\n",
    "size = []\n",
    "place=[]\n",
    "location=[]\n",
    "city=[]\n",
    "i=0\n",
    "\n",
    "for link in links:\n",
    "    \n",
    "    r1 = requests.get(link)\n",
    "    code1 = r1.content\n",
    "    soup1 = BeautifulSoup(code1,\"html.parser\")\n",
    "    all1 = soup1.find_all(\"h1\",{\"class\":\"type-wrap\"})\n",
    "    \n",
    "    #name.append(all1[0].find(('span',{\"class\":\"type\"})).text)\n",
    "    \n",
    "    s = all1[0].find_all((\"span\",{\"class\":\"size\"}))\n",
    "    if(len(s)>5):\n",
    "        name.append(s[0].text)\n",
    "        size.append(s[1].text)\n",
    "        place.append(s[2].text)\n",
    "        location.append(s[4].text)\n",
    "        city.append(s[5].text)\n",
    "        \n",
    "    else:\n",
    "        name.append(s[0].text)\n",
    "        size.append(s[1].text)\n",
    "        place.append(s[2].text)\n",
    "        location.append(s[2].text)\n",
    "        city.append(s[3].text)\n",
    "        \n",
    "    list1= [name[i],size[i],place[i],location[i],city[i]]\n",
    "    list2.append(list1)\n",
    "    i=i+1\n",
    "#print(name)\n",
    "#print(size)\n",
    "#print(place)\n",
    "#print(location)\n",
    "#print((city))\n",
    "#print(list2)"
   ]
  },
  {
   "cell_type": "code",
   "execution_count": 20,
   "metadata": {},
   "outputs": [
    {
     "name": "stdout",
     "output_type": "stream",
     "text": [
      "                        Name         Size  \\\n",
      "0           3 BHK Apartment   1,618 sq ft   \n",
      "1               4 BHK Villa   1,283 sq ft   \n",
      "2           2 BHK Apartment   1,029 sq ft   \n",
      "3               3 BHK Villa   1,591 sq ft   \n",
      "4           2 BHK Apartment   1,100 sq ft   \n",
      "5           2 BHK Apartment     835 sq ft   \n",
      "6           2 BHK Apartment     696 sq ft   \n",
      "7   2 BHK Independent House     890 sq ft   \n",
      "8               3 BHK Villa   1,237 sq ft   \n",
      "9           3 BHK Apartment   2,050 sq ft   \n",
      "10  2 BHK Independent House     960 sq ft   \n",
      "11         Residential Plot   1,296 sq ft   \n",
      "12          1 BHK Apartment     603 sq ft   \n",
      "13          5 BHK Apartment   3,370 sq ft   \n",
      "14         Residential Plot   1,200 sq ft   \n",
      "15          2 BHK Apartment     989 sq ft   \n",
      "16  2 BHK Independent House     650 sq ft   \n",
      "17         Residential Plot   1,501 sq ft   \n",
      "18          3 BHK Apartment   1,489 sq ft   \n",
      "19         Residential Plot   1,000 sq ft   \n",
      "\n",
      "                                           Place  \\\n",
      "0    Alliance Business Parks Galleria Residences   \n",
      "1                                      Urapakkam   \n",
      "2                                   Godrej Azure   \n",
      "3                                  Aradhya Villa   \n",
      "4                              Mr P Ravichandran   \n",
      "5                                  VS Madipakkam   \n",
      "6                                Golden Opulence   \n",
      "7                                          Kovur   \n",
      "8                       The White Villas Phase 4   \n",
      "9                          Reputed LNT Eden Park   \n",
      "10                                New Avadi Road   \n",
      "11               Fortune Residency west tambaram   \n",
      "12                    TATA New Haven Ribbon Walk   \n",
      "13                          Vishwakarma Sky Park   \n",
      "14                  CMDA COLONY IN TAMBARAM WEST   \n",
      "15                             Avittam Sekkizhar   \n",
      "16                                    Pallavaram   \n",
      "17                                  GRAND MAGNUM   \n",
      "18                                  BBCL Ashraya   \n",
      "19                                Ananda Habitat   \n",
      "\n",
      "                           Locality     City  \n",
      "0          Zamin Pallavaram Chennai  Chennai  \n",
      "1                         Urapakkam  Chennai  \n",
      "2                             Padur  Chennai  \n",
      "3                     East Tambaram  Chennai  \n",
      "4     Residential Flat Rajaji Nagar  Chennai  \n",
      "5                        Madipakkam  Chennai  \n",
      "6                       Poonamallee  Chennai  \n",
      "7                             Kovur  Chennai  \n",
      "8   Tambaram Mudichur Oragadam Road  Chennai  \n",
      "9                          Siruseri  Chennai  \n",
      "10                   New Avadi Road  Chennai  \n",
      "11                    West Tambaram  Chennai  \n",
      "12                       Moolacheri  Chennai  \n",
      "13                        Chromepet  Chennai  \n",
      "14                    tambaram west  Chennai  \n",
      "15                           Pammal  Chennai  \n",
      "16                       Pallavaram  Chennai  \n",
      "17                    Perungalathur  Chennai  \n",
      "18                 Thoraipakkam OMR  Chennai  \n",
      "19                         Oragadam  Chennai  \n"
     ]
    }
   ],
   "source": [
    "df=pd.DataFrame(list2)\n",
    "df.columns=['Name','Size','Place','Locality','City']\n",
    "#df.set_index('Name')\n",
    "print(df)\n",
    "df.to_csv('makaan.csv')"
   ]
  },
  {
   "cell_type": "code",
   "execution_count": null,
   "metadata": {},
   "outputs": [],
   "source": []
  }
 ],
 "metadata": {
  "kernelspec": {
   "display_name": "Python 3",
   "language": "python",
   "name": "python3"
  },
  "language_info": {
   "codemirror_mode": {
    "name": "ipython",
    "version": 3
   },
   "file_extension": ".py",
   "mimetype": "text/x-python",
   "name": "python",
   "nbconvert_exporter": "python",
   "pygments_lexer": "ipython3",
   "version": "3.7.0"
  }
 },
 "nbformat": 4,
 "nbformat_minor": 2
}
